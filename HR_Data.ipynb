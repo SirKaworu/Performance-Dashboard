{
  "nbformat": 4,
  "nbformat_minor": 0,
  "metadata": {
    "colab": {
      "provenance": []
    },
    "kernelspec": {
      "name": "python3",
      "display_name": "Python 3"
    },
    "language_info": {
      "name": "python"
    }
  },
  "cells": [
    {
      "cell_type": "markdown",
      "source": [
        "#Preparation"
      ],
      "metadata": {
        "id": "E1yv_fesyL0N"
      }
    },
    {
      "cell_type": "code",
      "source": [
        "# Install the faker library\n",
        "!pip install faker\n",
        "\n",
        "from IPython.display import clear_output\n",
        "clear_output()"
      ],
      "metadata": {
        "id": "Re8ZqtSGLu5_"
      },
      "execution_count": null,
      "outputs": []
    },
    {
      "cell_type": "code",
      "execution_count": null,
      "metadata": {
        "id": "sYITjjmtJE77"
      },
      "outputs": [],
      "source": [
        "import pandas as pd\n",
        "import numpy as np\n",
        "from faker import Faker"
      ]
    },
    {
      "cell_type": "markdown",
      "source": [
        "#Data Processing"
      ],
      "metadata": {
        "id": "3c0YjkwjySk8"
      }
    },
    {
      "cell_type": "code",
      "source": [
        "# Function to generate random HR data\n",
        "def generate_hr_data(num_rows):\n",
        "    fake = Faker()\n",
        "    data = {\n",
        "        'Attrition': [fake.random_element(['Yes', 'No']) for _ in range(num_rows)],\n",
        "        'Business Travel': [fake.random_element(['Travel_Rarely', 'Travel_Frequently', 'Non-Travel']) for _ in range(num_rows)],\n",
        "        'CF_age band': [fake.random_element(['Under 25', '25 - 34', '35 - 44', '45 - 54', 'Over 55']) for _ in range(num_rows)],\n",
        "        'CF_attrition label': [fake.random_element(['Ex-Employees', 'Current Employees']) for _ in range(num_rows)],\n",
        "        'Department': [fake.random_element(['Sales', 'R&D']) for _ in range(num_rows)],\n",
        "        'Education Field': [fake.random_element(['Life Sciences', 'Other', 'Medical', 'Technical Degree']) for _ in range(num_rows)],\n",
        "        'emp no': [fake.random_int(100, 999) for _ in range(num_rows)],\n",
        "        'Employee Number': [fake.random_int(1000, 9999) for _ in range(num_rows)],\n",
        "        'Gender': [fake.random_element(['Male', 'Female']) for _ in range(num_rows)],\n",
        "        'Job Role': [fake.random_element(['Sales Executive', 'Research Scientist', 'Laboratory Technician', 'Manufacturing Director', 'Healthcare Representative', 'Manager', 'Sales Representative', 'Research Director']) for _ in range(num_rows)],\n",
        "        'Marital Status': [fake.random_element(['Single', 'Married', 'Divorced']) for _ in range(num_rows)],\n",
        "        'Over Time': [fake.random_element(['Yes', 'No']) for _ in range(num_rows)],\n",
        "        'Over18': ['Y' for _ in range(num_rows)],\n",
        "        'Training Times Last Year': [fake.random_int(0, 5) for _ in range(num_rows)],\n",
        "        'Age': [fake.random_int(20, 60) for _ in range(num_rows)],\n",
        "        'CF_current Employee': [fake.random_int(0, 5) for _ in range(num_rows)],\n",
        "        'Daily Rate': [fake.random_int(800, 1500) for _ in range(num_rows)],\n",
        "        'Distance From Home': [fake.random_int(1, 30) for _ in range(num_rows)],\n",
        "        'Education': [fake.random_element(['High School', 'Associates Degree', \"Bachelor's Degree\", \"Master's Degree\", 'Doctoral Degree']) for _ in range(num_rows)],\n",
        "        'Employee Count': [1 for _ in range(num_rows)],\n",
        "        'Environment Satisfaction': [fake.random_int(1, 4) for _ in range(num_rows)],\n",
        "        'Hourly Rate': [fake.random_int(20, 50) for _ in range(num_rows)],\n",
        "        'Job Involvement': [fake.random_int(1, 4) for _ in range(num_rows)],\n",
        "        'Job Level': [fake.random_int(1, 5) for _ in range(num_rows)],\n",
        "        'Job Satisfaction': [fake.random_int(1, 4) for _ in range(num_rows)],\n",
        "        'Monthly Income': [fake.random_int(3000, 15000) for _ in range(num_rows)],\n",
        "        'Monthly Rate': [fake.random_int(5000, 25000) for _ in range(num_rows)],\n",
        "        'Num Companies Worked': [fake.random_int(0, 10) for _ in range(num_rows)],\n",
        "        'Percent Salary Hike': [fake.random_int(11, 25) for _ in range(num_rows)],\n",
        "        'Performance Rating': [fake.random_int(3, 5) for _ in range(num_rows)],\n",
        "        'Relationship Satisfaction': [fake.random_int(1, 4) for _ in range(num_rows)],\n",
        "        'Standard Hours': [80 for _ in range(num_rows)],\n",
        "        'Stock Option Level': [fake.random_int(0, 3) for _ in range(num_rows)],\n",
        "        'Total Working Years': [fake.random_int(1, 40) for _ in range(num_rows)],\n",
        "        'Work Life Balance': [fake.random_int(1, 4) for _ in range(num_rows)],\n",
        "        'Years At Company': [fake.random_int(1, 30) for _ in range(num_rows)],\n",
        "        'Years In Current Role': [fake.random_int(1, 15) for _ in range(num_rows)],\n",
        "        'Years Since Last Promotion': [fake.random_int(0, 15) for _ in range(num_rows)],\n",
        "        'Years With Curr Manager': [fake.random_int(1, 15) for _ in range(num_rows)],\n",
        "    }\n",
        "\n",
        "    return pd.DataFrame(data)"
      ],
      "metadata": {
        "id": "-gIzNssOJxsA"
      },
      "execution_count": null,
      "outputs": []
    },
    {
      "cell_type": "code",
      "source": [
        "# Generate random HR data\n",
        "num_rows = int(input(\"Enter the number of rows: \"))\n",
        "hr_data = generate_hr_data(num_rows)\n",
        "\n",
        "# Save DataFrame to Excel file\n",
        "hr_data.to_excel(\"HR_Data.xlsx\", index=False)"
      ],
      "metadata": {
        "colab": {
          "base_uri": "https://localhost:8080/"
        },
        "id": "UQ5g9ISFJ2i1",
        "outputId": "5e0c8d49-f3e8-4675-f9c0-4b89b6c8aaaa"
      },
      "execution_count": null,
      "outputs": [
        {
          "name": "stdout",
          "output_type": "stream",
          "text": [
            "Enter the number of rows: 1000\n"
          ]
        }
      ]
    }
  ]
}